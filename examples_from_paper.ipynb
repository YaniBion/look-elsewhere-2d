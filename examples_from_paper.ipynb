{
 "cells": [
  {
   "cell_type": "markdown",
   "metadata": {},
   "source": [
    "## Look Elsewhere Effect in 2-d\n",
    "\n",
    "Kyle Cranmer, Nov 19, 2015\n",
    "\n",
    "Based on\n",
    "*Estimating the significance of a signal in a multi-dimensional search* by  Ofer Vitells and Eilam Gross http://arxiv.org/pdf/1105.4355v1.pdf\n",
    "\n",
    "This is for the special case of a likelihood function of the form \n",
    "$L(\\mu, \\nu_1, \\nu_2)$ where $\\mu$ is a single parameter of interest and\n",
    "$\\nu_1,\\nu_2$ are two nuisance parameters that are not identified under the null.\n",
    "For example, $\\mu$ is the signal strength of a new particle and $\\nu_1,\\nu_2$ are the\n",
    "unknown mass and width of the new particle. Under the null hypothesis, those parameters \n",
    "don't mean anything... aka they \"are not identified under the null\" in the statistics jargon.\n",
    "This introduces a 2-d look elsewhere effect.\n",
    "\n",
    "The LEE correction in this case is based on \n",
    "\n",
    "\\begin{equation}\n",
    "E[ \\phi(A_u) ] = P(\\chi^2_1 > u) + e^{-u/2} (N_1 + \\sqrt{u} N_2) \\,\n",
    "\\end{equation}\n",
    "where \n",
    "   * $A_u$ is the 'excursion set above level $u$ (eg. the set of parameter points in $(\\nu_1,\\nu_2)$ that have a -2 log-likelihood ratio greater than $u$ )\n",
    "   * $\\phi(A_u)$ is the Euler characteristic of the excursion set\n",
    "   * $E[ \\phi(A_u) ]$ is the expectation of the Euler characteristic of those excursion sets under the null\n",
    "   * $P(\\chi^2_1 > u)$ is the standard chi-square probability \n",
    "   * and $N_1$ and $N_2$ are two coefficients that characterize the chi-square random field.\n",
    "   \n",
    "### structure of the notebook\n",
    "\n",
    "The notebook is broken into two parts.\n",
    "  * calculation of $N_1$ and $N_2$ based on $E[ \\phi(A_u) ]$ at two different levels $u_1$ and $u_2$\n",
    "  * calculation of LEE-corrected 'global p-value' given $N_1,N_2$"
   ]
  },
  {
   "cell_type": "code",
   "execution_count": 1,
   "metadata": {
    "collapsed": false
   },
   "outputs": [
    {
     "name": "stdout",
     "output_type": "stream",
     "text": [
      "Populating the interactive namespace from numpy and matplotlib\n"
     ]
    }
   ],
   "source": [
    "%pylab inline --no-import-all\n"
   ]
  },
  {
   "cell_type": "code",
   "execution_count": 2,
   "metadata": {
    "collapsed": false
   },
   "outputs": [],
   "source": [
    "from lee2d import *"
   ]
  },
  {
   "cell_type": "markdown",
   "metadata": {},
   "source": [
    "### Test numerical solution to $N_1, N_2$  from the example in the paper"
   ]
  },
  {
   "cell_type": "markdown",
   "metadata": {},
   "source": [
    "Usage: calculate n1,n2 based on expected value of Euler characteristic (calculated from toy Monte Carlo) at two different levels u1, u2. For example: \n",
    "   * $u_1=0$ with $E[ \\phi(A_{u=u_1})]=33.5 $ \n",
    "   * $u_2=1$ with $E[ \\phi(A_{u=u_2})]=94.6 $\n",
    "\n",
    "would lead to a call like this"
   ]
  },
  {
   "cell_type": "code",
   "execution_count": 11,
   "metadata": {
    "collapsed": false
   },
   "outputs": [
    {
     "name": "stdout",
     "output_type": "stream",
     "text": [
      "32.5 122.945875625\n"
     ]
    }
   ],
   "source": [
    "# An example from the paper\n",
    "n1, n2 = get_coefficients(u1=0., u2=1., exp_phi_1=33.5, exp_phi_2=94.6)\n",
    "print n1, n2"
   ]
  },
  {
   "cell_type": "code",
   "execution_count": 12,
   "metadata": {
    "collapsed": false
   },
   "outputs": [
    {
     "data": {
      "text/plain": [
       "[]"
      ]
     },
     "execution_count": 12,
     "metadata": {},
     "output_type": "execute_result"
    },
    {
     "data": {
      "image/png": "[encoded data removed]",
      "text/plain": [
       "<matplotlib.figure.Figure at 0x10cd61050>"
      ]
     },
     "metadata": {},
     "output_type": "display_data"
    }
   ],
   "source": [
    "# reproduce Fig 5 from paper (the markers are read by eye)\n",
    "u = np.linspace(5,35,100)\n",
    "global_p = global_pvalue(u,n1,n2)\n",
    "plt.plot(u, global_p)\n",
    "plt.scatter(35,2.E-5) #from Fig5\n",
    "plt.scatter(30,2.E-4) #from Fig5\n",
    "plt.scatter(25,2.5E-3) #from Fig5\n",
    "plt.scatter(20,2.5E-2) #from Fig5\n",
    "plt.scatter(15,.3) #from Fig5\n",
    "plt.xlabel('u')\n",
    "plt.ylabel('P(max q > u)')\n",
    "plt.semilogy()"
   ]
  },
  {
   "cell_type": "markdown",
   "metadata": {},
   "source": [
    "### Check Euler characteristic from Fig 3 example in the paper"
   ]
  },
  {
   "cell_type": "code",
   "execution_count": 13,
   "metadata": {
    "collapsed": false
   },
   "outputs": [
    {
     "data": {
      "text/plain": [
       "<matplotlib.image.AxesImage at 0x10ca5cb90>"
      ]
     },
     "execution_count": 13,
     "metadata": {},
     "output_type": "execute_result"
    },
    {
     "data": {
      "image/png": "[encoded data removed]",
      "text/plain": [
       "<matplotlib.figure.Figure at 0x10ca5a610>"
      ]
     },
     "metadata": {},
     "output_type": "display_data"
    }
   ],
   "source": [
    "#create Fig 3 of http://arxiv.org/pdf/1105.4355v1.pdf\n",
    "a = np.zeros((7,7))\n",
    "a[1,2]=a[1,3]=a[2,1]=a[2,2]=a[2,3]=a[2,4]=1\n",
    "a[3,1]=a[3,2]=a[3,3]=a[3,4]=a[3,5]=1\n",
    "a[4,1]=a[4,2]=a[4,3]=a[4,4]=1\n",
    "a[5,3]=1\n",
    "a[6,0]=a[6,1]=1\n",
    "a=a.T\n",
    "plt.imshow(a,cmap='gray',interpolation='none')"
   ]
  },
  {
   "cell_type": "code",
   "execution_count": 14,
   "metadata": {
    "collapsed": false
   },
   "outputs": [
    {
     "data": {
      "text/plain": [
       "2"
      ]
     },
     "execution_count": 14,
     "metadata": {},
     "output_type": "execute_result"
    }
   ],
   "source": [
    "#should be 2\n",
    "calculate_euler_characteristic(a) "
   ]
  },
  {
   "cell_type": "markdown",
   "metadata": {},
   "source": [
    "### Try a big matrix"
   ]
  },
  {
   "cell_type": "code",
   "execution_count": 36,
   "metadata": {
    "collapsed": false
   },
   "outputs": [
    {
     "data": {
      "text/plain": [
       "1"
      ]
     },
     "execution_count": 36,
     "metadata": {},
     "output_type": "execute_result"
    }
   ],
   "source": [
    "#Fully filled, should be 1\n",
    "randMatrix = np.zeros((100,100))+1\n",
    "calculate_euler_characteristic(randMatrix)"
   ]
  },
  {
   "cell_type": "code",
   "execution_count": 37,
   "metadata": {
    "collapsed": false
   },
   "outputs": [
    {
     "data": {
      "text/plain": [
       "2"
      ]
     },
     "execution_count": 37,
     "metadata": {},
     "output_type": "execute_result"
    },
    {
     "data": {
      "image/png": "[encoded data removed]",
      "text/plain": [
       "<matplotlib.figure.Figure at 0x10ca18f10>"
      ]
     },
     "metadata": {},
     "output_type": "display_data"
    }
   ],
   "source": [
    "# split in half vertically, should be 2\n",
    "randMatrix[50,:]=0\n",
    "plt.imshow(randMatrix,cmap='gray')\n",
    "calculate_euler_characteristic(randMatrix)"
   ]
  },
  {
   "cell_type": "code",
   "execution_count": 38,
   "metadata": {
    "collapsed": false
   },
   "outputs": [
    {
     "data": {
      "text/plain": [
       "6"
      ]
     },
     "execution_count": 38,
     "metadata": {},
     "output_type": "execute_result"
    },
    {
     "data": {
      "image/png": "[encoded data removed]",
      "text/plain": [
       "<matplotlib.figure.Figure at 0x10de96410>"
      ]
     },
     "metadata": {},
     "output_type": "display_data"
    }
   ],
   "source": [
    "#split in half horizontally twice, should be 6\n",
    "randMatrix[:,25]=0\n",
    "randMatrix[:,75]=0\n",
    "plt.imshow(randMatrix,cmap='gray')\n",
    "calculate_euler_characteristic(randMatrix)"
   ]
  },
  {
   "cell_type": "code",
   "execution_count": 39,
   "metadata": {
    "collapsed": false
   },
   "outputs": [
    {
     "data": {
      "text/plain": [
       "5"
      ]
     },
     "execution_count": 39,
     "metadata": {},
     "output_type": "execute_result"
    },
    {
     "data": {
      "image/png": "[encoded data removed]",
      "text/plain": [
       "<matplotlib.figure.Figure at 0x10daeb3d0>"
      ]
     },
     "metadata": {},
     "output_type": "display_data"
    }
   ],
   "source": [
    "#remove a hole from middle of one, should be 5\n",
    "randMatrix[25:30,50:53]=0\n",
    "plt.imshow(randMatrix,cmap='gray')\n",
    "calculate_euler_characteristic(randMatrix)"
   ]
  },
  {
   "cell_type": "code",
   "execution_count": 46,
   "metadata": {
    "collapsed": false
   },
   "outputs": [
    {
     "data": {
      "text/plain": [
       "<matplotlib.image.AxesImage at 0x10e3065d0>"
      ]
     },
     "execution_count": 46,
     "metadata": {},
     "output_type": "execute_result"
    },
    {
     "data": {
      "image/png": "[encoded data removed]",
      "text/plain": [
       "<matplotlib.figure.Figure at 0x10dad7e50>"
      ]
     },
     "metadata": {},
     "output_type": "display_data"
    }
   ],
   "source": [
    "#remove a single pixel hole\n",
    "randMatrix[75,50]=0\n",
    "plt.imshow(randMatrix,cmap='gray')"
   ]
  }
 ],
 "metadata": {
  "kernelspec": {
   "display_name": "Python 2",
   "language": "python",
   "name": "python2"
  },
  "language_info": {
   "codemirror_mode": {
    "name": "ipython",
    "version": 2
   },
   "file_extension": ".py",
   "mimetype": "text/x-python",
   "name": "python",
   "nbconvert_exporter": "python",
   "pygments_lexer": "ipython2",
   "version": "2.7.10"
  }
 },
 "nbformat": 4,
 "nbformat_minor": 0
}
